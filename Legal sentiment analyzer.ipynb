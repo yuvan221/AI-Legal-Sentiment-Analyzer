{
    "cells": [
        {
            "cell_type": "code",
            "execution_count": 1,
            "metadata": {
                "id": "2826cd59-c26d-4fb1-a2f9-39fa2c804474"
            },
            "outputs": [
                {
                    "name": "stdout",
                    "output_type": "stream",
                    "text": "Successfully installed wget-3.2\nSuccessfully installed scikit-learn-1.3.2\nRequirement already satisfied: sniffio>=1.1 in /opt/conda/envs/Python-RT24.1/lib/python3.11/site-packages (from anyio->httpx<0.29,>=0.27->ibm-watsonx-ai) (1.3.0)\n"
                }
            ],
            "source": "!pip install wget | tail -n 1\n!pip install \"scikit-learn==1.3.2\" | tail -n 1\n!pip install -U ibm-watsonx-ai | tail -n 1"
        },
        {
            "cell_type": "code",
            "execution_count": 83,
            "metadata": {
                "id": "31d48526-519c-4bc1-a4c1-b17e6b7ea144"
            },
            "outputs": [],
            "source": "\nurl = \"https://us-south.ml.cloud.ibm.com\"\napikey=\"_UZv0Z0oQ-x_WoUI3oX0wNr0kh9dhGExSUehWKfwgqNy\"\n"
        },
        {
            "cell_type": "code",
            "execution_count": 84,
            "metadata": {
                "id": "a12d9472-c96c-45e2-952c-35ba15a78b11"
            },
            "outputs": [],
            "source": "credentials = {\n    \"url\": url,\n    \"apikey\": apikey\n}\n"
        },
        {
            "cell_type": "code",
            "execution_count": 85,
            "metadata": {
                "id": "8e53f6c7-fd85-4cd0-a474-52dc0cfb3314"
            },
            "outputs": [
                {
                    "data": {
                        "text/plain": "'018f9e4b-ad00-4ef9-9868-4a6107deb33f'"
                    },
                    "execution_count": 85,
                    "metadata": {},
                    "output_type": "execute_result"
                }
            ],
            "source": "import os\n\ntry:\n    project_id = os.environ[\"PROJECT_ID\"]\nexcept KeyError:\n    project_id = input(\"Please enter your project_id (hit enter): \")\n\nproject_id"
        },
        {
            "cell_type": "code",
            "execution_count": 86,
            "metadata": {
                "id": "40e8fcaf-bb04-4a32-b024-62da3dd50457"
            },
            "outputs": [
                {
                    "data": {
                        "text/html": "<div>\n<style scoped>\n    .dataframe tbody tr th:only-of-type {\n        vertical-align: middle;\n    }\n\n    .dataframe tbody tr th {\n        vertical-align: top;\n    }\n\n    .dataframe thead th {\n        text-align: right;\n    }\n</style>\n<table border=\"1\" class=\"dataframe\">\n  <thead>\n    <tr style=\"text-align: right;\">\n      <th></th>\n      <th>Unnamed: 0</th>\n      <th>ID</th>\n      <th>Phrase</th>\n      <th>Sentiment</th>\n    </tr>\n  </thead>\n  <tbody>\n    <tr>\n      <th>0</th>\n      <td>0</td>\n      <td>1</td>\n      <td>Getting nowhere with surplusage</td>\n      <td>-1</td>\n    </tr>\n    <tr>\n      <th>1</th>\n      <td>1</td>\n      <td>2</td>\n      <td>But the Court nowhere suggested that it would ...</td>\n      <td>-1</td>\n    </tr>\n    <tr>\n      <th>2</th>\n      <td>2</td>\n      <td>3</td>\n      <td>Petitioners objection to shaving his beard cla...</td>\n      <td>-1</td>\n    </tr>\n    <tr>\n      <th>3</th>\n      <td>3</td>\n      <td>4</td>\n      <td>That result clashes with everything else</td>\n      <td>-1</td>\n    </tr>\n    <tr>\n      <th>4</th>\n      <td>4</td>\n      <td>5</td>\n      <td>the tolerable duration of police inquiries in ...</td>\n      <td>0</td>\n    </tr>\n    <tr>\n      <th>5</th>\n      <td>5</td>\n      <td>6</td>\n      <td>retrial be tolerable if the trial error could ...</td>\n      <td>0</td>\n    </tr>\n    <tr>\n      <th>6</th>\n      <td>6</td>\n      <td>7</td>\n      <td>I would be inclined to agree.</td>\n      <td>0</td>\n    </tr>\n    <tr>\n      <th>7</th>\n      <td>7</td>\n      <td>8</td>\n      <td>the trial court was inclined to accept the pro...</td>\n      <td>1</td>\n    </tr>\n    <tr>\n      <th>8</th>\n      <td>8</td>\n      <td>9</td>\n      <td>a plaintiff could overcome these hurdles where...</td>\n      <td>1</td>\n    </tr>\n    <tr>\n      <th>9</th>\n      <td>9</td>\n      <td>10</td>\n      <td>the procedural hurdles it could impose before ...</td>\n      <td>-1</td>\n    </tr>\n  </tbody>\n</table>\n</div>",
                        "text/plain": "   Unnamed: 0  ID                                             Phrase  \\\n0           0   1                    Getting nowhere with surplusage   \n1           1   2  But the Court nowhere suggested that it would ...   \n2           2   3  Petitioners objection to shaving his beard cla...   \n3           3   4           That result clashes with everything else   \n4           4   5  the tolerable duration of police inquiries in ...   \n5           5   6  retrial be tolerable if the trial error could ...   \n6           6   7                      I would be inclined to agree.   \n7           7   8  the trial court was inclined to accept the pro...   \n8           8   9  a plaintiff could overcome these hurdles where...   \n9           9  10  the procedural hurdles it could impose before ...   \n\n   Sentiment  \n0         -1  \n1         -1  \n2         -1  \n3         -1  \n4          0  \n5          0  \n6          0  \n7          1  \n8          1  \n9         -1  "
                    },
                    "execution_count": 86,
                    "metadata": {},
                    "output_type": "execute_result"
                }
            ],
            "source": "import  types\nimport pandas as pd\nfrom botocore.client import Config\nimport ibm_boto3\n\ncos_client = ibm_boto3.client(service_name='s3',\n    ibm_api_key_id='_UZv0Z0oQ-x_WoUI3oX0wNr0kh9dhGExSUehWKfwgqNy',  # Your secret API key\n    ibm_auth_endpoint='https://iam.cloud.ibm.com/oidc/token',\n    config=Config(signature_version='oauth'),\n    endpoint_url='https://s3.us-south.cloud-object-storage.appdomain.cloud'\n)\n\nbucket = 'bucket-ls9d6ddjo2vu33a'\nobject_key = 'legal_text_dataset.csv'\n\nbody = cos_client.get_object(Bucket=bucket, Key=object_key)['Body'] # downloading data set from cloud object stroage \nif not hasattr(body, \"iter\"):\n    body.iter = types.MethodType( iter, body)\ndata = pd.read_csv(body)\ndata.head(10)"
        },
        {
            "cell_type": "code",
            "execution_count": 87,
            "metadata": {
                "id": "116ad40b-7181-4c6e-90f7-0b39a3e728dc"
            },
            "outputs": [],
            "source": "label_map = {\n    -1: \"negative\",\n    0: \"neutral\",\n    1: \"positive\"\n}"
        },
        {
            "cell_type": "code",
            "execution_count": 88,
            "metadata": {
                "id": "b35fd330-ed89-408a-932a-e2f17bed06aa"
            },
            "outputs": [
                {
                    "data": {
                        "text/plain": "Sentiment\n-1           282\n 1           172\n 0           122\nName: count, dtype: int64"
                    },
                    "execution_count": 88,
                    "metadata": {},
                    "output_type": "execute_result"
                }
            ],
            "source": "data.value_counts(['Sentiment'])"
        },
        {
            "cell_type": "code",
            "execution_count": 89,
            "metadata": {
                "id": "ad81c0d0-b8d3-487b-a0ab-89b5f4adf5f9"
            },
            "outputs": [],
            "source": "from sklearn.model_selection import train_test_split\n\ndata_train, data_test, y_train, y_test = train_test_split(data['Phrase'], \n                                                    data['Sentiment'],\n                                                    test_size=0.3,\n                                                    random_state=33, \n                                                    stratify=data['Sentiment'])\ndata_train = pd.DataFrame(data_train)\ndata_test = pd.DataFrame(data_test)"
        },
        {
            "cell_type": "code",
            "execution_count": 90,
            "metadata": {
                "id": "e8c5c4ed-3c1e-4e28-a1b8-7529836fb962"
            },
            "outputs": [
                {
                    "name": "stdout",
                    "output_type": "stream",
                    "text": "['FLAN_T5_XXL', 'FLAN_UL2', 'MT0_XXL', 'GPT_NEOX', 'MPT_7B_INSTRUCT2', 'STARCODER', 'LLAMA_2_70B_CHAT', 'LLAMA_2_13B_CHAT', 'GRANITE_13B_INSTRUCT', 'GRANITE_13B_CHAT', 'FLAN_T5_XL', 'GRANITE_13B_CHAT_V2', 'GRANITE_13B_INSTRUCT_V2', 'ELYZA_JAPANESE_LLAMA_2_7B_INSTRUCT', 'MIXTRAL_8X7B_INSTRUCT_V01_Q', 'CODELLAMA_34B_INSTRUCT_HF', 'GRANITE_20B_MULTILINGUAL', 'MERLINITE_7B', 'GRANITE_20B_CODE_INSTRUCT', 'GRANITE_34B_CODE_INSTRUCT', 'GRANITE_3B_CODE_INSTRUCT', 'GRANITE_7B_LAB', 'GRANITE_8B_CODE_INSTRUCT', 'LLAMA_3_70B_INSTRUCT', 'LLAMA_3_8B_INSTRUCT', 'MIXTRAL_8X7B_INSTRUCT_V01']\n"
                }
            ],
            "source": "from ibm_watsonx_ai.foundation_models.utils.enums import ModelTypes\n\nprint([model.name for model in ModelTypes])"
        },
        {
            "cell_type": "code",
            "execution_count": 91,
            "metadata": {
                "id": "802bdbfe-43f4-4b05-89a8-06bd6a5727b1"
            },
            "outputs": [],
            "source": "model_id = ModelTypes.FLAN_T5_XXL"
        },
        {
            "cell_type": "code",
            "execution_count": 92,
            "metadata": {
                "id": "db6bb461-3bd7-4d66-9214-f32b3cd27918"
            },
            "outputs": [],
            "source": "from ibm_watsonx_ai.metanames import GenTextParamsMetaNames as GenParams\n\nparameters = {\n    GenParams.DECODING_METHOD: \"greedy\",\n    GenParams.RANDOM_SEED: 33,\n    GenParams.REPETITION_PENALTY: 1,\n    GenParams.MIN_NEW_TOKENS: 1,\n    GenParams.MAX_NEW_TOKENS: 1 \n}"
        },
        {
            "cell_type": "code",
            "execution_count": 95,
            "metadata": {
                "id": "39c45a0f-90a0-4f18-ac41-6b711d2a5348"
            },
            "outputs": [
                {
                    "name": "stderr",
                    "output_type": "stream",
                    "text": "/opt/conda/envs/Python-RT24.1/lib/python3.11/site-packages/ibm_watsonx_ai/foundation_models/utils/utils.py:436: LifecycleWarning: Model 'google/flan-t5-xxl' is in deprecated state from 2025-05-28 until 2025-07-30. IDs of alternative models: None. Further details: https://dataplatform.cloud.ibm.com/docs/content/wsj/analyze-data/fm-model-lifecycle.html?context=wx&audience=wdp\n  warn(model_state_warning, category=LifecycleWarning)\n"
                }
            ],
            "source": "from ibm_watsonx_ai.foundation_models import ModelInference\n\nmodel = ModelInference(\n    model_id=model_id, \n    params=parameters, \n    credentials=credentials,\n    project_id=project_id)"
        },
        {
            "cell_type": "code",
            "execution_count": 96,
            "metadata": {
                "id": "32d3960c-33d8-48ba-a65e-5c39ac38a942"
            },
            "outputs": [
                {
                    "data": {
                        "text/plain": "{'model_id': 'google/flan-t5-xxl',\n 'label': 'flan-t5-xxl-11b',\n 'provider': 'Google',\n 'source': 'Hugging Face',\n 'functions': [{'id': 'text_generation'}],\n 'short_description': 'flan-t5-xxl is an 11 billion parameter model based on the Flan-T5 family.',\n 'long_description': 'flan-t5-xxl (11B) is an 11 billion parameter model based on the Flan-T5 family. It is a pretrained T5 - an encoder-decoder model pre-trained on a mixture of supervised / unsupervised tasks converted into a text-to-text format, and fine-tuned on the Fine-tuned Language Net (FLAN) with instructions for better zero-shot and few-shot performance.',\n 'terms_url': 'https://huggingface.co/google/flan-t5-xxl/blob/main/README.md',\n 'input_tier': 'class_2',\n 'output_tier': 'class_2',\n 'number_params': '11b',\n 'min_shot_size': 0,\n 'task_ids': ['question_answering',\n  'summarization',\n  'retrieval_augmented_generation',\n  'classification',\n  'generation',\n  'extraction'],\n 'tasks': [{'id': 'question_answering', 'ratings': {'quality': 4}},\n  {'id': 'summarization', 'ratings': {'quality': 4}},\n  {'id': 'retrieval_augmented_generation', 'ratings': {'quality': 3}},\n  {'id': 'classification', 'ratings': {'quality': 4}},\n  {'id': 'generation'},\n  {'id': 'extraction', 'ratings': {'quality': 4}}],\n 'model_limits': {'max_sequence_length': 4096, 'max_output_tokens': 4095},\n 'limits': {'lite': {'call_time': '5m0s', 'max_output_tokens': 4095},\n  'v2-professional': {'call_time': '10m0s', 'max_output_tokens': 4095},\n  'v2-standard': {'call_time': '10m0s', 'max_output_tokens': 4095}},\n 'lifecycle': [{'id': 'available', 'start_date': '2023-07-07'},\n  {'id': 'deprecated', 'start_date': '2025-05-28'},\n  {'id': 'withdrawn', 'start_date': '2025-07-30'}]}"
                    },
                    "execution_count": 96,
                    "metadata": {},
                    "output_type": "execute_result"
                }
            ],
            "source": "model.get_details()"
        },
        {
            "cell_type": "code",
            "execution_count": 97,
            "metadata": {
                "id": "bc6447d6-5894-4f1e-886f-1f2a0ef3a60e"
            },
            "outputs": [],
            "source": "instruction=\"\"\"Determine the sentiment of the sentense.\nUse either 'positive', 'negative','neutral'.Use the provided examples as a template. \"\"\""
        },
        {
            "cell_type": "code",
            "execution_count": 98,
            "metadata": {
                "id": "d9fcb4f7-2cd8-4b1c-9e3c-0a893a150cdf"
            },
            "outputs": [
                {
                    "name": "stdout",
                    "output_type": "stream",
                    "text": "The sentence example 1 is:\n\t The Court rejects the CCAs conclusion that Moore failed to make the requisite showings with respect to intellectual functioning\n\nThe sentence example 2 is:\n\t He argues on appeal that had Defendants written truthful reports, or testified truthfully in deposition\n\n"
                }
            ],
            "source": "zero_shot_inputs = [{\"input\": text} for text in data_test['Phrase']]\nfor i in range(2):\n    print(f\"The sentence example {i+1} is:\\n\\t {zero_shot_inputs[i]['input']}\\n\")"
        },
        {
            "cell_type": "code",
            "execution_count": 99,
            "metadata": {
                "id": "4868466d-ec44-4b76-8bd2-6a2786c085f4"
            },
            "outputs": [],
            "source": "data_train_and_labels=data_train.copy()\ndata_train_and_labels['Sentiment']=y_train"
        },
        {
            "cell_type": "code",
            "execution_count": 100,
            "metadata": {
                "id": "5b250f4d-ac1a-4888-a26a-3c445b9a276a"
            },
            "outputs": [],
            "source": "few_shot_example=[]\nfew_shot_examples=[]\nfor phrase,sentiment in data_train_and_labels.groupby('Sentiment').apply(lambda x: x.sample(2)).values:\n    few_shot_example.append(f\"\\tsentence:\\t{phrase}\\n\\tsentiment: {sentiment}\\n\")\nfew_shot_examples=[''.join(few_shot_example)]"
        },
        {
            "cell_type": "code",
            "execution_count": 101,
            "metadata": {
                "id": "4d094f60-f523-4ae2-940a-a06bb1094eaa"
            },
            "outputs": [
                {
                    "name": "stdout",
                    "output_type": "stream",
                    "text": "The sentence example 1 is:\n The Court rejects the CCAs conclusion that Moore failed to make the requisite showings with respect to intellectual functioning\n\n\tSentiment: -1\n\nThe sentence example 2 is:\n He argues on appeal that had Defendants written truthful reports, or testified truthfully in deposition\n\n\tSentiment: -1\n\n"
                }
            ],
            "source": "few_shot_inputs_ = [{\"input\": text} for text in data_test['Phrase'].values]\nfor i in range(2):\n    print(f\"The sentence example {i+1} is:\\n {few_shot_inputs_[i]['input']}\\n\")\n    print(f\"\\tSentiment: {y_test[i]}\\n\")"
        },
        {
            "cell_type": "code",
            "execution_count": 102,
            "metadata": {
                "id": "c2cdd7b7-ea85-493b-bc1a-a6d47c45eb89"
            },
            "outputs": [],
            "source": "results = []\nfor inp in few_shot_inputs_[:2]:\n    results.append(model.generate(\" \".join([instruction+few_shot_examples[0], inp['input']]))[\"results\"][0])"
        },
        {
            "cell_type": "code",
            "execution_count": 103,
            "metadata": {
                "id": "4f9a04db-a783-457b-bff4-bde81ddc405d"
            },
            "outputs": [
                {
                    "name": "stdout",
                    "output_type": "stream",
                    "text": "[\n  {\n    \"generated_text\": \"neutral\",\n    \"generated_token_count\": 1,\n    \"input_token_count\": 207,\n    \"stop_reason\": \"max_tokens\"\n  },\n  {\n    \"generated_text\": \"neutral\",\n    \"generated_token_count\": 1,\n    \"input_token_count\": 207,\n    \"stop_reason\": \"max_tokens\"\n  }\n]\n"
                }
            ],
            "source": "import json\n\nprint(json.dumps(results, indent=2))"
        },
        {
            "cell_type": "code",
            "execution_count": 104,
            "metadata": {
                "id": "e314d461-5b59-4a31-8485-1957f4b1d42f"
            },
            "outputs": [
                {
                    "data": {
                        "text/plain": "['negative', 'neutral']"
                    },
                    "execution_count": 104,
                    "metadata": {},
                    "output_type": "execute_result"
                }
            ],
            "source": "y_true = [label_map[label] for label in y_test.values[:2]]\ny_true"
        },
        {
            "cell_type": "code",
            "execution_count": 105,
            "metadata": {
                "id": "f38e4b27-5c6b-4efb-bb05-feee4eff68be"
            },
            "outputs": [
                {
                    "data": {
                        "text/plain": "['neutral', 'neutral']"
                    },
                    "execution_count": 105,
                    "metadata": {},
                    "output_type": "execute_result"
                }
            ],
            "source": "y_pred = [result['generated_text'] for result in results]\ny_pred"
        },
        {
            "cell_type": "code",
            "execution_count": 106,
            "metadata": {
                "id": "517cf109-8a68-435f-bddf-90dcfd2998e6"
            },
            "outputs": [
                {
                    "name": "stdout",
                    "output_type": "stream",
                    "text": "0.5\n"
                }
            ],
            "source": "from sklearn.metrics import accuracy_score\n\nprint(accuracy_score(y_pred, y_true))"
        },
        {
            "cell_type": "code",
            "execution_count": null,
            "metadata": {
                "id": "57231d23-7ca8-4208-a848-45609ed538f4"
            },
            "outputs": [],
            "source": ""
        }
    ],
    "metadata": {
        "kernelspec": {
            "display_name": "Python 3.11",
            "language": "python",
            "name": "python3"
        },
        "language_info": {
            "codemirror_mode": {
                "name": "ipython",
                "version": 3
            },
            "file_extension": ".py",
            "mimetype": "text/x-python",
            "name": "python",
            "nbconvert_exporter": "python",
            "pygments_lexer": "ipython3",
            "version": "3.11.13"
        }
    },
    "nbformat": 4,
    "nbformat_minor": 4
}